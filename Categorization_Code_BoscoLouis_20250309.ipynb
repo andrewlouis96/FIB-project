{
 "cells": [
  {
   "cell_type": "code",
   "execution_count": null,
   "metadata": {},
   "outputs": [],
   "source": [
    "import pandas as pd\n",
    "import openai\n",
    "import os\n",
    "\n",
    "# Load OpenAI API Key:\n",
    "client = openai.OpenAI(api_key=os.getenv(\"OPENAI_API_KEY\"))"
   ]
  },
  {
   "cell_type": "code",
   "execution_count": null,
   "metadata": {},
   "outputs": [],
   "source": [
    "# Load the CSV file:\n",
    "file_path = \"//Users//louis//Downloads//test1.txt\"\n",
    "df = pd.read_csv(file_path, encoding=\"utf-16\", delimiter=\"\\t\")\n",
    "\n",
    "# Clean dataset by removing empty rows and columns:\n",
    "df = df.dropna(how=\"all\", axis=1).dropna(how=\"all\")\n",
    "\n",
    "# Identify the relevant column for categorization:\n",
    "response_column = \"6. Does the mode that you use to travel to work change seasonally? If so, explain below. (i.e. I bike to work during the warmer months and drive alone once it starts to snow).\"\n",
    "df = df[[response_column]].dropna()\n"
   ]
  },
  {
   "cell_type": "code",
   "execution_count": null,
   "metadata": {},
   "outputs": [],
   "source": [
    "# Prompt for GPT:\n",
    "def categorize_response(response):\n",
    "    \"\"\"Uses OpenAI API to classify survey responses into standardized labels.\"\"\"\n",
    "    system_prompt = \"\"\"\n",
    "    You are an expert in survey response analysis. You will categorize survey responses\n",
    "    about seasonal commuting behavior into standardized labels. The possible labels are:\n",
    "    \n",
    "    - Always Drive\n",
    "    - Seasonal Biker\n",
    "    - Year-Round Biker\n",
    "    - Public Transit User\n",
    "    - Carpooler\n",
    "    - Other\n",
    "    \n",
    "    ### **Classification Process:**\n",
    "    1. **Identify the main idea** of the response.\n",
    "    2. **Select the most appropriate label** from the list above.\n",
    "    3. **Return only the label, nothing else.**\n",
    "    \"\"\"\n",
    "    \n",
    "    response = client.chat.completions.create(\n",
    "        model=\"gpt-4o\",\n",
    "        messages=[\n",
    "            {\"role\": \"system\", \"content\": system_prompt},\n",
    "            {\"role\": \"user\", \"content\": f\"Response: {response}\\nLabel: \"},\n",
    "        ]\n",
    "    )\n",
    "    return response.choices[0].message.content.strip()\n",
    "\n",
    "# Apply AI categorization:\n",
    "df[\"Standardized_Label\"] = df[response_column].apply(categorize_response)"
   ]
  },
  {
   "cell_type": "code",
   "execution_count": null,
   "metadata": {},
   "outputs": [],
   "source": [
    "# Save the labeled data:\n",
    "df.to_csv(\"//Users//louis//Downloads//categorized_survey_data.csv\", index=False, encoding=\"utf-16\", sep=\"\\t\")\n",
    "\n",
    "print(\"Categorization complete! Results saved to 'categorized_survey_data.csv'\")"
   ]
  }
 ],
 "metadata": {
  "kernelspec": {
   "display_name": "base",
   "language": "python",
   "name": "python3"
  },
  "language_info": {
   "codemirror_mode": {
    "name": "ipython",
    "version": 3
   },
   "file_extension": ".py",
   "mimetype": "text/x-python",
   "name": "python",
   "nbconvert_exporter": "python",
   "pygments_lexer": "ipython3",
   "version": "3.11.5"
  }
 },
 "nbformat": 4,
 "nbformat_minor": 2
}
